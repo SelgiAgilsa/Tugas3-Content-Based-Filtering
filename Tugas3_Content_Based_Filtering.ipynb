{
  "cells": [
    {
      "cell_type": "markdown",
      "metadata": {
        "id": "view-in-github",
        "colab_type": "text"
      },
      "source": [
        "<a href=\"https://colab.research.google.com/github/SelgiAgilsa/Tugas3-Content-Based-Recomendation/blob/main/Tugas3_Content_Based_Filtering.ipynb\" target=\"_parent\"><img src=\"https://colab.research.google.com/assets/colab-badge.svg\" alt=\"Open In Colab\"/></a>"
      ]
    },
    {
      "cell_type": "markdown",
      "metadata": {
        "id": "Oh8Cj_C18Q3U"
      },
      "source": [
        "# Content Based Filtering : Rekomendasi Studi Independen dan Magang Kampus Merdeka"
      ]
    },
    {
      "cell_type": "code",
      "execution_count": 73,
      "metadata": {
        "id": "MDcaSLwZ8Q3V",
        "outputId": "9df5c9f5-9c58-4c0c-f130-6320cb9679b0",
        "colab": {
          "base_uri": "https://localhost:8080/",
          "height": 206
        }
      },
      "outputs": [
        {
          "output_type": "execute_result",
          "data": {
            "text/plain": [
              "                                   Nama Perusahaan  \\\n",
              "0                              Selgi Agilsa Ebimbi   \n",
              "1  Braindevs PT. IlmuKomputerCom Braindevs Sistema   \n",
              "2               Marawa Studio PT Mafela Ranca Wana   \n",
              "3          Suitmedia PT Suitmedia Kreasi Indonesia   \n",
              "4        Widya Robotics PT Widya Inovasi Indonesia   \n",
              "\n",
              "                                              Alamat  \\\n",
              "0    Jl. Nggepos III No.35A, Jerakah, Tugu, Semarang   \n",
              "1  Menara Bidakara 1 Lantai 2, Jl. Gatot Subroto ...   \n",
              "2  Jl. Tan Malaka No. 138 Lt 3 , Kota Payakumbuh,...   \n",
              "3  Jl. Pejaten Barat II No. 3A Jakarta, Indonesia...   \n",
              "4  Jl. Palagan Tentara Pelajar KM 7.5 No.31A, Mud...   \n",
              "\n",
              "                                  Modul Pembelajaran  \n",
              "0  Text Minning Machine Learning Jejaring Sosial ...  \n",
              "1  Systems Analysis and Design Communication Skil...  \n",
              "2  Framing Shot Pemahaman Dasar Menggambar Perspe...  \n",
              "3  Pemahaman terkait Kick off Meeting Project Tim...  \n",
              "4   Riset teknologi AI Dataset annotation Peranca...  "
            ],
            "text/html": [
              "\n",
              "  <div id=\"df-31083bc6-dd7d-4f79-8417-d1d8a64f919c\">\n",
              "    <div class=\"colab-df-container\">\n",
              "      <div>\n",
              "<style scoped>\n",
              "    .dataframe tbody tr th:only-of-type {\n",
              "        vertical-align: middle;\n",
              "    }\n",
              "\n",
              "    .dataframe tbody tr th {\n",
              "        vertical-align: top;\n",
              "    }\n",
              "\n",
              "    .dataframe thead th {\n",
              "        text-align: right;\n",
              "    }\n",
              "</style>\n",
              "<table border=\"1\" class=\"dataframe\">\n",
              "  <thead>\n",
              "    <tr style=\"text-align: right;\">\n",
              "      <th></th>\n",
              "      <th>Nama Perusahaan</th>\n",
              "      <th>Alamat</th>\n",
              "      <th>Modul Pembelajaran</th>\n",
              "    </tr>\n",
              "  </thead>\n",
              "  <tbody>\n",
              "    <tr>\n",
              "      <th>0</th>\n",
              "      <td>Selgi Agilsa Ebimbi</td>\n",
              "      <td>Jl. Nggepos III No.35A, Jerakah, Tugu, Semarang</td>\n",
              "      <td>Text Minning Machine Learning Jejaring Sosial ...</td>\n",
              "    </tr>\n",
              "    <tr>\n",
              "      <th>1</th>\n",
              "      <td>Braindevs PT. IlmuKomputerCom Braindevs Sistema</td>\n",
              "      <td>Menara Bidakara 1 Lantai 2, Jl. Gatot Subroto ...</td>\n",
              "      <td>Systems Analysis and Design Communication Skil...</td>\n",
              "    </tr>\n",
              "    <tr>\n",
              "      <th>2</th>\n",
              "      <td>Marawa Studio PT Mafela Ranca Wana</td>\n",
              "      <td>Jl. Tan Malaka No. 138 Lt 3 , Kota Payakumbuh,...</td>\n",
              "      <td>Framing Shot Pemahaman Dasar Menggambar Perspe...</td>\n",
              "    </tr>\n",
              "    <tr>\n",
              "      <th>3</th>\n",
              "      <td>Suitmedia PT Suitmedia Kreasi Indonesia</td>\n",
              "      <td>Jl. Pejaten Barat II No. 3A Jakarta, Indonesia...</td>\n",
              "      <td>Pemahaman terkait Kick off Meeting Project Tim...</td>\n",
              "    </tr>\n",
              "    <tr>\n",
              "      <th>4</th>\n",
              "      <td>Widya Robotics PT Widya Inovasi Indonesia</td>\n",
              "      <td>Jl. Palagan Tentara Pelajar KM 7.5 No.31A, Mud...</td>\n",
              "      <td>Riset teknologi AI Dataset annotation Peranca...</td>\n",
              "    </tr>\n",
              "  </tbody>\n",
              "</table>\n",
              "</div>\n",
              "      <button class=\"colab-df-convert\" onclick=\"convertToInteractive('df-31083bc6-dd7d-4f79-8417-d1d8a64f919c')\"\n",
              "              title=\"Convert this dataframe to an interactive table.\"\n",
              "              style=\"display:none;\">\n",
              "        \n",
              "  <svg xmlns=\"http://www.w3.org/2000/svg\" height=\"24px\"viewBox=\"0 0 24 24\"\n",
              "       width=\"24px\">\n",
              "    <path d=\"M0 0h24v24H0V0z\" fill=\"none\"/>\n",
              "    <path d=\"M18.56 5.44l.94 2.06.94-2.06 2.06-.94-2.06-.94-.94-2.06-.94 2.06-2.06.94zm-11 1L8.5 8.5l.94-2.06 2.06-.94-2.06-.94L8.5 2.5l-.94 2.06-2.06.94zm10 10l.94 2.06.94-2.06 2.06-.94-2.06-.94-.94-2.06-.94 2.06-2.06.94z\"/><path d=\"M17.41 7.96l-1.37-1.37c-.4-.4-.92-.59-1.43-.59-.52 0-1.04.2-1.43.59L10.3 9.45l-7.72 7.72c-.78.78-.78 2.05 0 2.83L4 21.41c.39.39.9.59 1.41.59.51 0 1.02-.2 1.41-.59l7.78-7.78 2.81-2.81c.8-.78.8-2.07 0-2.86zM5.41 20L4 18.59l7.72-7.72 1.47 1.35L5.41 20z\"/>\n",
              "  </svg>\n",
              "      </button>\n",
              "      \n",
              "  <style>\n",
              "    .colab-df-container {\n",
              "      display:flex;\n",
              "      flex-wrap:wrap;\n",
              "      gap: 12px;\n",
              "    }\n",
              "\n",
              "    .colab-df-convert {\n",
              "      background-color: #E8F0FE;\n",
              "      border: none;\n",
              "      border-radius: 50%;\n",
              "      cursor: pointer;\n",
              "      display: none;\n",
              "      fill: #1967D2;\n",
              "      height: 32px;\n",
              "      padding: 0 0 0 0;\n",
              "      width: 32px;\n",
              "    }\n",
              "\n",
              "    .colab-df-convert:hover {\n",
              "      background-color: #E2EBFA;\n",
              "      box-shadow: 0px 1px 2px rgba(60, 64, 67, 0.3), 0px 1px 3px 1px rgba(60, 64, 67, 0.15);\n",
              "      fill: #174EA6;\n",
              "    }\n",
              "\n",
              "    [theme=dark] .colab-df-convert {\n",
              "      background-color: #3B4455;\n",
              "      fill: #D2E3FC;\n",
              "    }\n",
              "\n",
              "    [theme=dark] .colab-df-convert:hover {\n",
              "      background-color: #434B5C;\n",
              "      box-shadow: 0px 1px 3px 1px rgba(0, 0, 0, 0.15);\n",
              "      filter: drop-shadow(0px 1px 2px rgba(0, 0, 0, 0.3));\n",
              "      fill: #FFFFFF;\n",
              "    }\n",
              "  </style>\n",
              "\n",
              "      <script>\n",
              "        const buttonEl =\n",
              "          document.querySelector('#df-31083bc6-dd7d-4f79-8417-d1d8a64f919c button.colab-df-convert');\n",
              "        buttonEl.style.display =\n",
              "          google.colab.kernel.accessAllowed ? 'block' : 'none';\n",
              "\n",
              "        async function convertToInteractive(key) {\n",
              "          const element = document.querySelector('#df-31083bc6-dd7d-4f79-8417-d1d8a64f919c');\n",
              "          const dataTable =\n",
              "            await google.colab.kernel.invokeFunction('convertToInteractive',\n",
              "                                                     [key], {});\n",
              "          if (!dataTable) return;\n",
              "\n",
              "          const docLinkHtml = 'Like what you see? Visit the ' +\n",
              "            '<a target=\"_blank\" href=https://colab.research.google.com/notebooks/data_table.ipynb>data table notebook</a>'\n",
              "            + ' to learn more about interactive tables.';\n",
              "          element.innerHTML = '';\n",
              "          dataTable['output_type'] = 'display_data';\n",
              "          await google.colab.output.renderOutput(dataTable, element);\n",
              "          const docLink = document.createElement('div');\n",
              "          docLink.innerHTML = docLinkHtml;\n",
              "          element.appendChild(docLink);\n",
              "        }\n",
              "      </script>\n",
              "    </div>\n",
              "  </div>\n",
              "  "
            ]
          },
          "metadata": {},
          "execution_count": 73
        }
      ],
      "source": [
        "import pandas as pd\n",
        "import numpy as np\n",
        "from sklearn.metrics.pairwise import cosine_similarity\n",
        "from sklearn.feature_extraction.text import TfidfVectorizer\n",
        "from nltk.corpus import stopwords\n",
        "import re\n",
        "import random\n",
        "\n",
        "df = pd.read_csv(\"https://raw.githubusercontent.com/SelgiAgilsa/Tugas3-Content-Based-Recomendation/main/data_rekomendasi.csv\")\n",
        "df.head()"
      ]
    },
    {
      "cell_type": "markdown",
      "metadata": {
        "id": "UhzUu1XS8Q3X"
      },
      "source": [
        "## 1. Ikhtisar"
      ]
    },
    {
      "cell_type": "code",
      "execution_count": 74,
      "metadata": {
        "id": "sW-j8yXE8Q3X",
        "outputId": "c3db1a58-780b-41eb-b020-226c0f04c9d7",
        "colab": {
          "base_uri": "https://localhost:8080/",
          "height": 175
        }
      },
      "outputs": [
        {
          "output_type": "execute_result",
          "data": {
            "text/plain": [
              "            Nama Perusahaan  \\\n",
              "count                    11   \n",
              "unique                   11   \n",
              "top     Selgi Agilsa Ebimbi   \n",
              "freq                      1   \n",
              "\n",
              "                                                   Alamat  \\\n",
              "count                                                  11   \n",
              "unique                                                 10   \n",
              "top     Jl. Situ Indah No.116 RT. 006 RW. 010 Kel. Tug...   \n",
              "freq                                                    2   \n",
              "\n",
              "                                       Modul Pembelajaran  \n",
              "count                                                  11  \n",
              "unique                                                 11  \n",
              "top     Text Minning Machine Learning Jejaring Sosial ...  \n",
              "freq                                                    1  "
            ],
            "text/html": [
              "\n",
              "  <div id=\"df-aae97d19-4e00-4b03-8740-f76e8ee3139c\">\n",
              "    <div class=\"colab-df-container\">\n",
              "      <div>\n",
              "<style scoped>\n",
              "    .dataframe tbody tr th:only-of-type {\n",
              "        vertical-align: middle;\n",
              "    }\n",
              "\n",
              "    .dataframe tbody tr th {\n",
              "        vertical-align: top;\n",
              "    }\n",
              "\n",
              "    .dataframe thead th {\n",
              "        text-align: right;\n",
              "    }\n",
              "</style>\n",
              "<table border=\"1\" class=\"dataframe\">\n",
              "  <thead>\n",
              "    <tr style=\"text-align: right;\">\n",
              "      <th></th>\n",
              "      <th>Nama Perusahaan</th>\n",
              "      <th>Alamat</th>\n",
              "      <th>Modul Pembelajaran</th>\n",
              "    </tr>\n",
              "  </thead>\n",
              "  <tbody>\n",
              "    <tr>\n",
              "      <th>count</th>\n",
              "      <td>11</td>\n",
              "      <td>11</td>\n",
              "      <td>11</td>\n",
              "    </tr>\n",
              "    <tr>\n",
              "      <th>unique</th>\n",
              "      <td>11</td>\n",
              "      <td>10</td>\n",
              "      <td>11</td>\n",
              "    </tr>\n",
              "    <tr>\n",
              "      <th>top</th>\n",
              "      <td>Selgi Agilsa Ebimbi</td>\n",
              "      <td>Jl. Situ Indah No.116 RT. 006 RW. 010 Kel. Tug...</td>\n",
              "      <td>Text Minning Machine Learning Jejaring Sosial ...</td>\n",
              "    </tr>\n",
              "    <tr>\n",
              "      <th>freq</th>\n",
              "      <td>1</td>\n",
              "      <td>2</td>\n",
              "      <td>1</td>\n",
              "    </tr>\n",
              "  </tbody>\n",
              "</table>\n",
              "</div>\n",
              "      <button class=\"colab-df-convert\" onclick=\"convertToInteractive('df-aae97d19-4e00-4b03-8740-f76e8ee3139c')\"\n",
              "              title=\"Convert this dataframe to an interactive table.\"\n",
              "              style=\"display:none;\">\n",
              "        \n",
              "  <svg xmlns=\"http://www.w3.org/2000/svg\" height=\"24px\"viewBox=\"0 0 24 24\"\n",
              "       width=\"24px\">\n",
              "    <path d=\"M0 0h24v24H0V0z\" fill=\"none\"/>\n",
              "    <path d=\"M18.56 5.44l.94 2.06.94-2.06 2.06-.94-2.06-.94-.94-2.06-.94 2.06-2.06.94zm-11 1L8.5 8.5l.94-2.06 2.06-.94-2.06-.94L8.5 2.5l-.94 2.06-2.06.94zm10 10l.94 2.06.94-2.06 2.06-.94-2.06-.94-.94-2.06-.94 2.06-2.06.94z\"/><path d=\"M17.41 7.96l-1.37-1.37c-.4-.4-.92-.59-1.43-.59-.52 0-1.04.2-1.43.59L10.3 9.45l-7.72 7.72c-.78.78-.78 2.05 0 2.83L4 21.41c.39.39.9.59 1.41.59.51 0 1.02-.2 1.41-.59l7.78-7.78 2.81-2.81c.8-.78.8-2.07 0-2.86zM5.41 20L4 18.59l7.72-7.72 1.47 1.35L5.41 20z\"/>\n",
              "  </svg>\n",
              "      </button>\n",
              "      \n",
              "  <style>\n",
              "    .colab-df-container {\n",
              "      display:flex;\n",
              "      flex-wrap:wrap;\n",
              "      gap: 12px;\n",
              "    }\n",
              "\n",
              "    .colab-df-convert {\n",
              "      background-color: #E8F0FE;\n",
              "      border: none;\n",
              "      border-radius: 50%;\n",
              "      cursor: pointer;\n",
              "      display: none;\n",
              "      fill: #1967D2;\n",
              "      height: 32px;\n",
              "      padding: 0 0 0 0;\n",
              "      width: 32px;\n",
              "    }\n",
              "\n",
              "    .colab-df-convert:hover {\n",
              "      background-color: #E2EBFA;\n",
              "      box-shadow: 0px 1px 2px rgba(60, 64, 67, 0.3), 0px 1px 3px 1px rgba(60, 64, 67, 0.15);\n",
              "      fill: #174EA6;\n",
              "    }\n",
              "\n",
              "    [theme=dark] .colab-df-convert {\n",
              "      background-color: #3B4455;\n",
              "      fill: #D2E3FC;\n",
              "    }\n",
              "\n",
              "    [theme=dark] .colab-df-convert:hover {\n",
              "      background-color: #434B5C;\n",
              "      box-shadow: 0px 1px 3px 1px rgba(0, 0, 0, 0.15);\n",
              "      filter: drop-shadow(0px 1px 2px rgba(0, 0, 0, 0.3));\n",
              "      fill: #FFFFFF;\n",
              "    }\n",
              "  </style>\n",
              "\n",
              "      <script>\n",
              "        const buttonEl =\n",
              "          document.querySelector('#df-aae97d19-4e00-4b03-8740-f76e8ee3139c button.colab-df-convert');\n",
              "        buttonEl.style.display =\n",
              "          google.colab.kernel.accessAllowed ? 'block' : 'none';\n",
              "\n",
              "        async function convertToInteractive(key) {\n",
              "          const element = document.querySelector('#df-aae97d19-4e00-4b03-8740-f76e8ee3139c');\n",
              "          const dataTable =\n",
              "            await google.colab.kernel.invokeFunction('convertToInteractive',\n",
              "                                                     [key], {});\n",
              "          if (!dataTable) return;\n",
              "\n",
              "          const docLinkHtml = 'Like what you see? Visit the ' +\n",
              "            '<a target=\"_blank\" href=https://colab.research.google.com/notebooks/data_table.ipynb>data table notebook</a>'\n",
              "            + ' to learn more about interactive tables.';\n",
              "          element.innerHTML = '';\n",
              "          dataTable['output_type'] = 'display_data';\n",
              "          await google.colab.output.renderOutput(dataTable, element);\n",
              "          const docLink = document.createElement('div');\n",
              "          docLink.innerHTML = docLinkHtml;\n",
              "          element.appendChild(docLink);\n",
              "        }\n",
              "      </script>\n",
              "    </div>\n",
              "  </div>\n",
              "  "
            ]
          },
          "metadata": {},
          "execution_count": 74
        }
      ],
      "source": [
        "df.describe()"
      ]
    },
    {
      "cell_type": "code",
      "execution_count": 75,
      "metadata": {
        "id": "rMTpmWFP8Q3X",
        "outputId": "b79095ff-bdb7-4265-a03d-382171c1a307",
        "colab": {
          "base_uri": "https://localhost:8080/"
        }
      },
      "outputs": [
        {
          "output_type": "stream",
          "name": "stdout",
          "text": [
            "<class 'pandas.core.frame.DataFrame'>\n",
            "RangeIndex: 11 entries, 0 to 10\n",
            "Data columns (total 3 columns):\n",
            " #   Column              Non-Null Count  Dtype \n",
            "---  ------              --------------  ----- \n",
            " 0   Nama Perusahaan     11 non-null     object\n",
            " 1   Alamat              11 non-null     object\n",
            " 2   Modul Pembelajaran  11 non-null     object\n",
            "dtypes: object(3)\n",
            "memory usage: 392.0+ bytes\n"
          ]
        }
      ],
      "source": [
        "df.info()"
      ]
    },
    {
      "cell_type": "markdown",
      "metadata": {
        "id": "oQiUsqXE8Q3Y"
      },
      "source": [
        "## 2. Modul Pembelajaran (Sebelum Preprocessing)"
      ]
    },
    {
      "cell_type": "code",
      "execution_count": 76,
      "metadata": {
        "id": "s3N4Ps8r8Q3Y"
      },
      "outputs": [],
      "source": [
        "def print_description(index):\n",
        "    example = df[df.index == index][['Modul Pembelajaran', 'Nama Perusahaan','Alamat']].values[0]\n",
        "    if len(example) > 0:\n",
        "        print(example[0])\n",
        "        print('Nama Perusahaan :', example[1])\n",
        "        print('Alamat:', example[2])"
      ]
    },
    {
      "cell_type": "code",
      "execution_count": 77,
      "metadata": {
        "id": "a7xiDE-R8Q3Y",
        "outputId": "a7fd76b1-628b-4ead-99ea-dc3eabe03b77",
        "colab": {
          "base_uri": "https://localhost:8080/"
        }
      },
      "outputs": [
        {
          "output_type": "stream",
          "name": "stdout",
          "text": [
            "Text Minning Machine Learning Jejaring Sosial Sistem Informasi Geografis Grafika Komputer Basis Data Terdistribusi Web Service\n",
            "Nama Perusahaan : Selgi Agilsa Ebimbi\n",
            "Alamat: Jl. Nggepos III No.35A, Jerakah, Tugu, Semarang\n"
          ]
        }
      ],
      "source": [
        "print_description(0)"
      ]
    },
    {
      "cell_type": "code",
      "execution_count": 78,
      "metadata": {
        "id": "f04nqInU8Q3Y",
        "outputId": "dfac886d-da55-44a1-d346-bd233aeeed2c",
        "colab": {
          "base_uri": "https://localhost:8080/"
        }
      },
      "outputs": [
        {
          "output_type": "stream",
          "name": "stdout",
          "text": [
            "Teamwork Collaboration Feature Store Analytical Thinking Tableau Access Management Communication \n",
            "Nama Perusahaan : tiket.com PT Global Tiket Network\n",
            "Alamat: Wisma Barito Pacific II Lantai. 8, Jalan Letnan Jenderal Siswondo Parman Kavling. 60, Desa/Kelurahan Slipi, Kec. Pal Merah, Kota Adm. Jakarta Barat, Provinsi DKI Jakarta, Jakarta Raya Indonesia\n"
          ]
        }
      ],
      "source": [
        "print_description(5)"
      ]
    },
    {
      "cell_type": "code",
      "execution_count": 79,
      "metadata": {
        "id": "NeI7LmS38Q3Z",
        "outputId": "86dc2005-971f-4b27-cd97-bc1136ea083b",
        "colab": {
          "base_uri": "https://localhost:8080/"
        }
      },
      "outputs": [
        {
          "output_type": "stream",
          "name": "stdout",
          "text": [
            "Soft Skill UI UX Design Pattern Pemrograman Mobile Code Versioning Dasar Dasar Pemrograman Databases Final Project\n",
            "Nama Perusahaan : NF Computer PT Nurul Fikri Cipta Inovasi \n",
            "Alamat: Jl. Situ Indah No.116 RT. 006 RW. 010 Kel. Tugu,  Kec. Cimanggis, Kota Depok, Jawa Barat\n"
          ]
        }
      ],
      "source": [
        "print_description(10)"
      ]
    },
    {
      "cell_type": "markdown",
      "metadata": {
        "id": "IJQYFEWH8Q3Z"
      },
      "source": [
        "## 3. Text Preprocessing"
      ]
    },
    {
      "cell_type": "code",
      "execution_count": null,
      "metadata": {
        "id": "fHoAyS_p8Q3Z"
      },
      "outputs": [],
      "source": [
        "import nltk\n",
        "nltk.download('stopwords')\n",
        "clean_spcl = re.compile('[/(){}\\[\\]\\|@,;]')\n",
        "clean_symbol = re.compile('[^0-9a-z #+_]')\n",
        "#stopworda = set(stopwords.words('english'))\n",
        "\n",
        "def clean_text(text):\n",
        "    \"\"\"\n",
        "        text: a string\n",
        "        \n",
        "        return: modified initial string\n",
        "    \"\"\"\n",
        "    text = text.lower() # lowercase text\n",
        "    text = clean_spcl.sub(' ', text)\n",
        "    text = clean_symbol.sub('', text)\n",
        "    #text = ' '.join(word for word in text.split() if word not in stopworda) # hapus stopword dari kolom deskripsi\n",
        "    return text\n",
        "    \n",
        "df['modulpembelajaran_clean'] = df['Modul Pembelajaran'].apply(clean_text)"
      ]
    },
    {
      "cell_type": "code",
      "execution_count": 81,
      "metadata": {
        "id": "55AYPffg8Q3a",
        "outputId": "174f84a7-b784-4096-b135-bb620f7c71ba",
        "colab": {
          "base_uri": "https://localhost:8080/",
          "height": 337
        }
      },
      "outputs": [
        {
          "output_type": "execute_result",
          "data": {
            "text/plain": [
              "                                   Nama Perusahaan  \\\n",
              "0                              Selgi Agilsa Ebimbi   \n",
              "1  Braindevs PT. IlmuKomputerCom Braindevs Sistema   \n",
              "2               Marawa Studio PT Mafela Ranca Wana   \n",
              "3          Suitmedia PT Suitmedia Kreasi Indonesia   \n",
              "4        Widya Robotics PT Widya Inovasi Indonesia   \n",
              "\n",
              "                                              Alamat  \\\n",
              "0    Jl. Nggepos III No.35A, Jerakah, Tugu, Semarang   \n",
              "1  Menara Bidakara 1 Lantai 2, Jl. Gatot Subroto ...   \n",
              "2  Jl. Tan Malaka No. 138 Lt 3 , Kota Payakumbuh,...   \n",
              "3  Jl. Pejaten Barat II No. 3A Jakarta, Indonesia...   \n",
              "4  Jl. Palagan Tentara Pelajar KM 7.5 No.31A, Mud...   \n",
              "\n",
              "                                  Modul Pembelajaran  \\\n",
              "0  Text Minning Machine Learning Jejaring Sosial ...   \n",
              "1  Systems Analysis and Design Communication Skil...   \n",
              "2  Framing Shot Pemahaman Dasar Menggambar Perspe...   \n",
              "3  Pemahaman terkait Kick off Meeting Project Tim...   \n",
              "4   Riset teknologi AI Dataset annotation Peranca...   \n",
              "\n",
              "                             modulpembelajaran_clean  \n",
              "0  text minning machine learning jejaring sosial ...  \n",
              "1  systems analysis and design communication skil...  \n",
              "2  framing shot pemahaman dasar menggambar perspe...  \n",
              "3  pemahaman terkait kick off meeting project tim...  \n",
              "4   riset teknologi ai dataset annotation peranca...  "
            ],
            "text/html": [
              "\n",
              "  <div id=\"df-721a4d18-295c-4497-a599-3b2908529629\">\n",
              "    <div class=\"colab-df-container\">\n",
              "      <div>\n",
              "<style scoped>\n",
              "    .dataframe tbody tr th:only-of-type {\n",
              "        vertical-align: middle;\n",
              "    }\n",
              "\n",
              "    .dataframe tbody tr th {\n",
              "        vertical-align: top;\n",
              "    }\n",
              "\n",
              "    .dataframe thead th {\n",
              "        text-align: right;\n",
              "    }\n",
              "</style>\n",
              "<table border=\"1\" class=\"dataframe\">\n",
              "  <thead>\n",
              "    <tr style=\"text-align: right;\">\n",
              "      <th></th>\n",
              "      <th>Nama Perusahaan</th>\n",
              "      <th>Alamat</th>\n",
              "      <th>Modul Pembelajaran</th>\n",
              "      <th>modulpembelajaran_clean</th>\n",
              "    </tr>\n",
              "  </thead>\n",
              "  <tbody>\n",
              "    <tr>\n",
              "      <th>0</th>\n",
              "      <td>Selgi Agilsa Ebimbi</td>\n",
              "      <td>Jl. Nggepos III No.35A, Jerakah, Tugu, Semarang</td>\n",
              "      <td>Text Minning Machine Learning Jejaring Sosial ...</td>\n",
              "      <td>text minning machine learning jejaring sosial ...</td>\n",
              "    </tr>\n",
              "    <tr>\n",
              "      <th>1</th>\n",
              "      <td>Braindevs PT. IlmuKomputerCom Braindevs Sistema</td>\n",
              "      <td>Menara Bidakara 1 Lantai 2, Jl. Gatot Subroto ...</td>\n",
              "      <td>Systems Analysis and Design Communication Skil...</td>\n",
              "      <td>systems analysis and design communication skil...</td>\n",
              "    </tr>\n",
              "    <tr>\n",
              "      <th>2</th>\n",
              "      <td>Marawa Studio PT Mafela Ranca Wana</td>\n",
              "      <td>Jl. Tan Malaka No. 138 Lt 3 , Kota Payakumbuh,...</td>\n",
              "      <td>Framing Shot Pemahaman Dasar Menggambar Perspe...</td>\n",
              "      <td>framing shot pemahaman dasar menggambar perspe...</td>\n",
              "    </tr>\n",
              "    <tr>\n",
              "      <th>3</th>\n",
              "      <td>Suitmedia PT Suitmedia Kreasi Indonesia</td>\n",
              "      <td>Jl. Pejaten Barat II No. 3A Jakarta, Indonesia...</td>\n",
              "      <td>Pemahaman terkait Kick off Meeting Project Tim...</td>\n",
              "      <td>pemahaman terkait kick off meeting project tim...</td>\n",
              "    </tr>\n",
              "    <tr>\n",
              "      <th>4</th>\n",
              "      <td>Widya Robotics PT Widya Inovasi Indonesia</td>\n",
              "      <td>Jl. Palagan Tentara Pelajar KM 7.5 No.31A, Mud...</td>\n",
              "      <td>Riset teknologi AI Dataset annotation Peranca...</td>\n",
              "      <td>riset teknologi ai dataset annotation peranca...</td>\n",
              "    </tr>\n",
              "  </tbody>\n",
              "</table>\n",
              "</div>\n",
              "      <button class=\"colab-df-convert\" onclick=\"convertToInteractive('df-721a4d18-295c-4497-a599-3b2908529629')\"\n",
              "              title=\"Convert this dataframe to an interactive table.\"\n",
              "              style=\"display:none;\">\n",
              "        \n",
              "  <svg xmlns=\"http://www.w3.org/2000/svg\" height=\"24px\"viewBox=\"0 0 24 24\"\n",
              "       width=\"24px\">\n",
              "    <path d=\"M0 0h24v24H0V0z\" fill=\"none\"/>\n",
              "    <path d=\"M18.56 5.44l.94 2.06.94-2.06 2.06-.94-2.06-.94-.94-2.06-.94 2.06-2.06.94zm-11 1L8.5 8.5l.94-2.06 2.06-.94-2.06-.94L8.5 2.5l-.94 2.06-2.06.94zm10 10l.94 2.06.94-2.06 2.06-.94-2.06-.94-.94-2.06-.94 2.06-2.06.94z\"/><path d=\"M17.41 7.96l-1.37-1.37c-.4-.4-.92-.59-1.43-.59-.52 0-1.04.2-1.43.59L10.3 9.45l-7.72 7.72c-.78.78-.78 2.05 0 2.83L4 21.41c.39.39.9.59 1.41.59.51 0 1.02-.2 1.41-.59l7.78-7.78 2.81-2.81c.8-.78.8-2.07 0-2.86zM5.41 20L4 18.59l7.72-7.72 1.47 1.35L5.41 20z\"/>\n",
              "  </svg>\n",
              "      </button>\n",
              "      \n",
              "  <style>\n",
              "    .colab-df-container {\n",
              "      display:flex;\n",
              "      flex-wrap:wrap;\n",
              "      gap: 12px;\n",
              "    }\n",
              "\n",
              "    .colab-df-convert {\n",
              "      background-color: #E8F0FE;\n",
              "      border: none;\n",
              "      border-radius: 50%;\n",
              "      cursor: pointer;\n",
              "      display: none;\n",
              "      fill: #1967D2;\n",
              "      height: 32px;\n",
              "      padding: 0 0 0 0;\n",
              "      width: 32px;\n",
              "    }\n",
              "\n",
              "    .colab-df-convert:hover {\n",
              "      background-color: #E2EBFA;\n",
              "      box-shadow: 0px 1px 2px rgba(60, 64, 67, 0.3), 0px 1px 3px 1px rgba(60, 64, 67, 0.15);\n",
              "      fill: #174EA6;\n",
              "    }\n",
              "\n",
              "    [theme=dark] .colab-df-convert {\n",
              "      background-color: #3B4455;\n",
              "      fill: #D2E3FC;\n",
              "    }\n",
              "\n",
              "    [theme=dark] .colab-df-convert:hover {\n",
              "      background-color: #434B5C;\n",
              "      box-shadow: 0px 1px 3px 1px rgba(0, 0, 0, 0.15);\n",
              "      filter: drop-shadow(0px 1px 2px rgba(0, 0, 0, 0.3));\n",
              "      fill: #FFFFFF;\n",
              "    }\n",
              "  </style>\n",
              "\n",
              "      <script>\n",
              "        const buttonEl =\n",
              "          document.querySelector('#df-721a4d18-295c-4497-a599-3b2908529629 button.colab-df-convert');\n",
              "        buttonEl.style.display =\n",
              "          google.colab.kernel.accessAllowed ? 'block' : 'none';\n",
              "\n",
              "        async function convertToInteractive(key) {\n",
              "          const element = document.querySelector('#df-721a4d18-295c-4497-a599-3b2908529629');\n",
              "          const dataTable =\n",
              "            await google.colab.kernel.invokeFunction('convertToInteractive',\n",
              "                                                     [key], {});\n",
              "          if (!dataTable) return;\n",
              "\n",
              "          const docLinkHtml = 'Like what you see? Visit the ' +\n",
              "            '<a target=\"_blank\" href=https://colab.research.google.com/notebooks/data_table.ipynb>data table notebook</a>'\n",
              "            + ' to learn more about interactive tables.';\n",
              "          element.innerHTML = '';\n",
              "          dataTable['output_type'] = 'display_data';\n",
              "          await google.colab.output.renderOutput(dataTable, element);\n",
              "          const docLink = document.createElement('div');\n",
              "          docLink.innerHTML = docLinkHtml;\n",
              "          element.appendChild(docLink);\n",
              "        }\n",
              "      </script>\n",
              "    </div>\n",
              "  </div>\n",
              "  "
            ]
          },
          "metadata": {},
          "execution_count": 81
        }
      ],
      "source": [
        "df.head()"
      ]
    },
    {
      "cell_type": "markdown",
      "metadata": {
        "id": "V6KVxT2Y8Q3a"
      },
      "source": [
        "## 4. Modul Pembelajaran (Setelah Preprocessing)"
      ]
    },
    {
      "cell_type": "code",
      "execution_count": 82,
      "metadata": {
        "id": "0d1yv9Fc8Q3a"
      },
      "outputs": [],
      "source": [
        "# Deskripsi kedua (Setelah preprocessing)\n",
        "def print_description_clean(index):\n",
        "    example = df[df.index == index][['modulpembelajaran_clean', 'Nama Perusahaan','Alamat']].values[0]\n",
        "    if len(example) > 0:\n",
        "        print(example[0])\n",
        "        print('Nama Perusahaan :', example[1])\n",
        "        print('Alamat:', example[2])"
      ]
    },
    {
      "cell_type": "code",
      "execution_count": 83,
      "metadata": {
        "id": "uImH4dZD8Q3a",
        "outputId": "c2914718-9453-47c3-bf9d-9a4f22076e5f",
        "colab": {
          "base_uri": "https://localhost:8080/"
        }
      },
      "outputs": [
        {
          "output_type": "stream",
          "name": "stdout",
          "text": [
            "systems analysis and design communication skills requirement analysis team work time management\n",
            "Nama Perusahaan : Braindevs PT. IlmuKomputerCom Braindevs Sistema\n",
            "Alamat: Menara Bidakara 1 Lantai 2, Jl. Gatot Subroto Kav. 71-73 Pancoran Jakarta Selatan 12870\n"
          ]
        }
      ],
      "source": [
        "print_description_clean(1)"
      ]
    },
    {
      "cell_type": "code",
      "execution_count": 84,
      "metadata": {
        "id": "UROrAO918Q3b",
        "outputId": "0e78eb9e-1c12-4603-b1b3-7164fcaed304",
        "colab": {
          "base_uri": "https://localhost:8080/"
        }
      },
      "outputs": [
        {
          "output_type": "stream",
          "name": "stdout",
          "text": [
            "pemahaman terkait kick off meeting project timeline project management tools mengetahui cara interview dengan klien membuat minutes of meeting job request memahami scope of work pemahaman terkait maintenance services upselling nps pemahaman terkait company profile services pemahaman terkait tren industri digital digital assessment technical development pemahaman terkait quotation change request negosiasi dalam sales pemahaman terkait dokumen administrasi proyek weekly progress report handover report menemukan leads introductory email dan penggunaan tools hubspot crm\n",
            "Nama Perusahaan : Suitmedia PT Suitmedia Kreasi Indonesia\n",
            "Alamat: Jl. Pejaten Barat II No. 3A Jakarta, Indonesia 12510\n"
          ]
        }
      ],
      "source": [
        "print_description_clean(3)"
      ]
    },
    {
      "cell_type": "code",
      "execution_count": 85,
      "metadata": {
        "id": "ttgbNz_d8Q3b",
        "outputId": "b6e72c63-21d0-43cb-a90e-48b662f19e11",
        "colab": {
          "base_uri": "https://localhost:8080/"
        }
      },
      "outputs": [
        {
          "output_type": "stream",
          "name": "stdout",
          "text": [
            "Soft Skill UI UX Design Pattern Pemrograman Mobile Code Versioning Dasar Dasar Pemrograman Databases Final Project\n",
            "Nama Perusahaan : NF Computer PT Nurul Fikri Cipta Inovasi \n",
            "Alamat: Jl. Situ Indah No.116 RT. 006 RW. 010 Kel. Tugu,  Kec. Cimanggis, Kota Depok, Jawa Barat\n"
          ]
        }
      ],
      "source": [
        "print_description(10)"
      ]
    },
    {
      "cell_type": "markdown",
      "metadata": {
        "id": "aKUUUHpN8Q3b"
      },
      "source": [
        "## 5. TF-IDF & Cosine Similarity"
      ]
    },
    {
      "cell_type": "code",
      "execution_count": 86,
      "metadata": {
        "scrolled": false,
        "id": "G0Ul4gzG8Q3b",
        "outputId": "158ed58e-0730-4e46-b82b-b731a8f2a6c7",
        "colab": {
          "base_uri": "https://localhost:8080/"
        }
      },
      "outputs": [
        {
          "output_type": "execute_result",
          "data": {
            "text/plain": [
              "array([[1.        , 0.        , 0.        , 0.        , 0.        ,\n",
              "        0.        , 0.07277343, 0.        , 0.013862  , 0.        ,\n",
              "        0.        ],\n",
              "       [0.        , 1.        , 0.        , 0.01387172, 0.        ,\n",
              "        0.04638035, 0.05920045, 0.        , 0.        , 0.        ,\n",
              "        0.02053276],\n",
              "       [0.        , 0.        , 1.        , 0.04020069, 0.        ,\n",
              "        0.        , 0.02298814, 0.00940582, 0.        , 0.01729139,\n",
              "        0.02466622],\n",
              "       [0.        , 0.01387172, 0.04020069, 1.        , 0.        ,\n",
              "        0.00642717, 0.        , 0.01007845, 0.00831376, 0.02548158,\n",
              "        0.01009195],\n",
              "       [0.        , 0.        , 0.        , 0.        , 1.        ,\n",
              "        0.        , 0.        , 0.1501657 , 0.        , 0.        ,\n",
              "        0.        ],\n",
              "       [0.        , 0.04638035, 0.        , 0.00642717, 0.        ,\n",
              "        1.        , 0.        , 0.        , 0.        , 0.        ,\n",
              "        0.        ],\n",
              "       [0.07277343, 0.05920045, 0.02298814, 0.        , 0.        ,\n",
              "        0.        , 1.        , 0.        , 0.01016946, 0.        ,\n",
              "        0.        ],\n",
              "       [0.        , 0.        , 0.00940582, 0.01007845, 0.1501657 ,\n",
              "        0.        , 0.        , 1.        , 0.0208399 , 0.01090598,\n",
              "        0.02529726],\n",
              "       [0.013862  , 0.        , 0.        , 0.00831376, 0.        ,\n",
              "        0.        , 0.01016946, 0.0208399 , 1.        , 0.00761581,\n",
              "        0.16742685],\n",
              "       [0.        , 0.        , 0.01729139, 0.02548158, 0.        ,\n",
              "        0.        , 0.        , 0.01090598, 0.00761581, 1.        ,\n",
              "        0.01430014],\n",
              "       [0.        , 0.02053276, 0.02466622, 0.01009195, 0.        ,\n",
              "        0.        , 0.        , 0.02529726, 0.16742685, 0.01430014,\n",
              "        1.        ]])"
            ]
          },
          "metadata": {},
          "execution_count": 86
        }
      ],
      "source": [
        "df.set_index('Nama Perusahaan', inplace=True)\n",
        "tf = TfidfVectorizer(analyzer='word', ngram_range=(1, 3), min_df=0, stop_words='english')\n",
        "tfidf_matrix = tf.fit_transform(df['modulpembelajaran_clean'])\n",
        "cos_sim = cosine_similarity(tfidf_matrix, tfidf_matrix)\n",
        "cos_sim"
      ]
    },
    {
      "cell_type": "code",
      "execution_count": 87,
      "metadata": {
        "id": "PhuZKDnN8Q3c",
        "outputId": "632be0b3-95a4-4255-ebf8-a646082af602",
        "colab": {
          "base_uri": "https://localhost:8080/"
        }
      },
      "outputs": [
        {
          "output_type": "execute_result",
          "data": {
            "text/plain": [
              "0                                  Selgi Agilsa Ebimbi\n",
              "1      Braindevs PT. IlmuKomputerCom Braindevs Sistema\n",
              "2                   Marawa Studio PT Mafela Ranca Wana\n",
              "3              Suitmedia PT Suitmedia Kreasi Indonesia\n",
              "4            Widya Robotics PT Widya Inovasi Indonesia\n",
              "5                    tiket.com PT Global Tiket Network\n",
              "6     Metrodata Academy PT Mitra Integrasi Informatika\n",
              "7              Power Academy PT Mitra Semeru Indonesia\n",
              "8             NF Computer PT Nurul Fikri Cipta Inovasi\n",
              "9           Hacktiv8 PT Hacktivate Teknologi Indonesia\n",
              "10           NF Computer PT Nurul Fikri Cipta Inovasi \n",
              "Name: Nama Perusahaan, dtype: object"
            ]
          },
          "metadata": {},
          "execution_count": 87
        }
      ],
      "source": [
        "# Set index utama di kolom 'name'\n",
        "indices = pd.Series(df.index)\n",
        "indices[:11]"
      ]
    },
    {
      "cell_type": "markdown",
      "metadata": {
        "id": "aZu2hdz48Q3c"
      },
      "source": [
        "## 6. Modelling"
      ]
    },
    {
      "cell_type": "code",
      "execution_count": 88,
      "metadata": {
        "id": "SfEqCYQD8Q3c"
      },
      "outputs": [],
      "source": [
        "def recommendations(name, cos_sim = cos_sim):\n",
        "    \n",
        "    recommended_kpsmerdeka = []\n",
        "    \n",
        "    # Mengambil nama hotel berdasarkan variabel indicies\n",
        "    idx = indices[indices == name].index[0]\n",
        "\n",
        "    # Membuat series berdasarkan skor kesamaan\n",
        "    score_series = pd.Series(cos_sim[idx]).sort_values(ascending = False)\n",
        "\n",
        "    # mengambil index dan dibuat 10 baris rekomendasi terbaik\n",
        "    top_10_indexes = list(score_series.iloc[1:4].index)\n",
        "    \n",
        "    for i in top_10_indexes:\n",
        "        recommended_kpsmerdeka.append(list(df.index)[i])\n",
        "        \n",
        "    return recommended_kpsmerdeka"
      ]
    },
    {
      "cell_type": "markdown",
      "metadata": {
        "scrolled": false,
        "id": "rIZ3e-0r8Q3d"
      },
      "source": [
        "## 7. Prediksi"
      ]
    },
    {
      "cell_type": "code",
      "execution_count": 89,
      "metadata": {
        "id": "gvaEhR3M8Q3d",
        "outputId": "0d234ee4-598e-4a7c-eac9-60b974ddf56b",
        "colab": {
          "base_uri": "https://localhost:8080/"
        }
      },
      "outputs": [
        {
          "output_type": "execute_result",
          "data": {
            "text/plain": [
              "['Metrodata Academy PT Mitra Integrasi Informatika',\n",
              " 'NF Computer PT Nurul Fikri Cipta Inovasi',\n",
              " 'Braindevs PT. IlmuKomputerCom Braindevs Sistema']"
            ]
          },
          "metadata": {},
          "execution_count": 89
        }
      ],
      "source": [
        "recommendations('Selgi Agilsa Ebimbi')"
      ]
    },
    {
      "cell_type": "code",
      "execution_count": 90,
      "metadata": {
        "id": "NKHx7DfR8Q3d",
        "outputId": "7ca4b341-f29e-4a0b-f870-fedcc5607ba2",
        "colab": {
          "base_uri": "https://localhost:8080/"
        }
      },
      "outputs": [
        {
          "output_type": "execute_result",
          "data": {
            "text/plain": [
              "['Braindevs PT. IlmuKomputerCom Braindevs Sistema',\n",
              " 'Suitmedia PT Suitmedia Kreasi Indonesia',\n",
              " 'Selgi Agilsa Ebimbi']"
            ]
          },
          "metadata": {},
          "execution_count": 90
        }
      ],
      "source": [
        "recommendations(\"tiket.com PT Global Tiket Network\")"
      ]
    },
    {
      "cell_type": "code",
      "execution_count": 91,
      "metadata": {
        "id": "KBe3LSgT8Q3d",
        "outputId": "f526739c-cdc6-4ab3-d62b-1824e7282769",
        "colab": {
          "base_uri": "https://localhost:8080/"
        }
      },
      "outputs": [
        {
          "output_type": "execute_result",
          "data": {
            "text/plain": [
              "['Marawa Studio PT Mafela Ranca Wana',\n",
              " 'Hacktiv8 PT Hacktivate Teknologi Indonesia',\n",
              " 'Braindevs PT. IlmuKomputerCom Braindevs Sistema']"
            ]
          },
          "metadata": {},
          "execution_count": 91
        }
      ],
      "source": [
        "recommendations(\"Suitmedia PT Suitmedia Kreasi Indonesia\")"
      ]
    },
    {
      "cell_type": "markdown",
      "metadata": {
        "id": "UU6lekzN8Q3d"
      },
      "source": [
        "# Selesai..."
      ]
    }
  ],
  "metadata": {
    "kernelspec": {
      "display_name": "Python 3",
      "language": "python",
      "name": "python3"
    },
    "language_info": {
      "codemirror_mode": {
        "name": "ipython",
        "version": 3
      },
      "file_extension": ".py",
      "mimetype": "text/x-python",
      "name": "python",
      "nbconvert_exporter": "python",
      "pygments_lexer": "ipython3",
      "version": "3.7.3"
    },
    "colab": {
      "provenance": [],
      "collapsed_sections": [],
      "include_colab_link": true
    }
  },
  "nbformat": 4,
  "nbformat_minor": 0
}